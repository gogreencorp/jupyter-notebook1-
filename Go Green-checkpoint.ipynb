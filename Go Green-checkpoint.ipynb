{
 "cells": [
  {
   "cell_type": "markdown",
   "metadata": {},
   "source": [
    "### GO GREEN MULTICLASS REGRESSION \n",
    "\n",
    " Project Description:\n",
    "To use the machine learning techniques to predict best crop type using soil properties. \n",
    "\n",
    "\n",
    "### Note: This is a supervised learning multinomial regression task."
   ]
  },
  {
   "cell_type": "code",
   "execution_count": 1,
   "metadata": {
    "collapsed": true
   },
   "outputs": [],
   "source": [
    "#import the necessary libraries \n",
    "import os\n",
    "import numpy as np\n",
    "import pandas as pd\n",
    "import seaborn as sns\n",
    "import statsmodels.api as sm\n",
    "import matplotlib.pyplot as plt\n",
    "from sklearn.linear_model import LogisticRegression\n",
    "from sklearn.preprocessing import StandardScaler\n",
    "\n",
    "%matplotlib inline "
   ]
  },
  {
   "cell_type": "markdown",
   "metadata": {},
   "source": [
    "Checking and changing the directory"
   ]
  },
  {
   "cell_type": "code",
   "execution_count": 2,
   "metadata": {
    "collapsed": false
   },
   "outputs": [
    {
     "data": {
      "text/plain": [
       "'C:\\\\Users\\\\0wner\\\\Documents'"
      ]
     },
     "execution_count": 2,
     "metadata": {},
     "output_type": "execute_result"
    }
   ],
   "source": [
    "#check the directory you are working in\n",
    "os.getcwd()"
   ]
  },
  {
   "cell_type": "code",
   "execution_count": 3,
   "metadata": {
    "collapsed": false
   },
   "outputs": [],
   "source": [
    "#change the directory to the relevant one containing our dataset\n",
    "os.chdir(r'C:\\Users\\0wner\\Documents\\Data Science\\Go Green')"
   ]
  },
  {
   "cell_type": "code",
   "execution_count": 4,
   "metadata": {
    "collapsed": false,
    "scrolled": true
   },
   "outputs": [],
   "source": [
    "#import the cleaned dataset into a pandas dataframe \n",
    "df= pd.read_csv('gogreenfinal.csv')"
   ]
  },
  {
   "cell_type": "markdown",
   "metadata": {},
   "source": [
    "Viewing the dataset and its attributes"
   ]
  },
  {
   "cell_type": "code",
   "execution_count": 5,
   "metadata": {
    "collapsed": false
   },
   "outputs": [
    {
     "data": {
      "text/html": [
       "<div>\n",
       "<table border=\"1\" class=\"dataframe\">\n",
       "  <thead>\n",
       "    <tr style=\"text-align: right;\">\n",
       "      <th></th>\n",
       "      <th>Tag_No</th>\n",
       "      <th>Nucleic acids available</th>\n",
       "      <th>SoilAsso</th>\n",
       "      <th>pH</th>\n",
       "      <th>SOC</th>\n",
       "      <th>Avail_P</th>\n",
       "      <th>Avail_K</th>\n",
       "      <th>Avail_Mg</th>\n",
       "      <th>K</th>\n",
       "      <th>Mg</th>\n",
       "      <th>Mn</th>\n",
       "      <th>Na</th>\n",
       "      <th>P</th>\n",
       "      <th>LandUse</th>\n",
       "    </tr>\n",
       "  </thead>\n",
       "  <tbody>\n",
       "    <tr>\n",
       "      <th>0</th>\n",
       "      <td>1</td>\n",
       "      <td>2</td>\n",
       "      <td>12</td>\n",
       "      <td>6.2</td>\n",
       "      <td>6.49</td>\n",
       "      <td>5.70</td>\n",
       "      <td>147.23</td>\n",
       "      <td>329.70</td>\n",
       "      <td>1.64</td>\n",
       "      <td>0.656</td>\n",
       "      <td>1568</td>\n",
       "      <td>0.611</td>\n",
       "      <td>0.159</td>\n",
       "      <td>Cereals</td>\n",
       "    </tr>\n",
       "    <tr>\n",
       "      <th>1</th>\n",
       "      <td>2</td>\n",
       "      <td>2</td>\n",
       "      <td>12</td>\n",
       "      <td>6.0</td>\n",
       "      <td>6.42</td>\n",
       "      <td>8.40</td>\n",
       "      <td>125.44</td>\n",
       "      <td>346.26</td>\n",
       "      <td>1.85</td>\n",
       "      <td>0.470</td>\n",
       "      <td>791</td>\n",
       "      <td>0.717</td>\n",
       "      <td>0.170</td>\n",
       "      <td>Cereals</td>\n",
       "    </tr>\n",
       "    <tr>\n",
       "      <th>2</th>\n",
       "      <td>3</td>\n",
       "      <td>2</td>\n",
       "      <td>12</td>\n",
       "      <td>5.8</td>\n",
       "      <td>8.28</td>\n",
       "      <td>3.63</td>\n",
       "      <td>201.47</td>\n",
       "      <td>216.01</td>\n",
       "      <td>1.65</td>\n",
       "      <td>0.323</td>\n",
       "      <td>648</td>\n",
       "      <td>0.832</td>\n",
       "      <td>0.136</td>\n",
       "      <td>Cereals</td>\n",
       "    </tr>\n",
       "    <tr>\n",
       "      <th>3</th>\n",
       "      <td>4</td>\n",
       "      <td>2</td>\n",
       "      <td>12</td>\n",
       "      <td>5.9</td>\n",
       "      <td>7.01</td>\n",
       "      <td>7.02</td>\n",
       "      <td>75.34</td>\n",
       "      <td>175.44</td>\n",
       "      <td>1.39</td>\n",
       "      <td>0.370</td>\n",
       "      <td>854</td>\n",
       "      <td>0.533</td>\n",
       "      <td>0.154</td>\n",
       "      <td>Cereals</td>\n",
       "    </tr>\n",
       "    <tr>\n",
       "      <th>4</th>\n",
       "      <td>5</td>\n",
       "      <td>2</td>\n",
       "      <td>40</td>\n",
       "      <td>5.9</td>\n",
       "      <td>5.11</td>\n",
       "      <td>2.37</td>\n",
       "      <td>79.24</td>\n",
       "      <td>113.20</td>\n",
       "      <td>1.87</td>\n",
       "      <td>0.414</td>\n",
       "      <td>633</td>\n",
       "      <td>0.570</td>\n",
       "      <td>0.065</td>\n",
       "      <td>Cereals</td>\n",
       "    </tr>\n",
       "  </tbody>\n",
       "</table>\n",
       "</div>"
      ],
      "text/plain": [
       "   Tag_No  Nucleic acids available  SoilAsso   pH   SOC  Avail_P  Avail_K  \\\n",
       "0       1                        2        12  6.2  6.49     5.70   147.23   \n",
       "1       2                        2        12  6.0  6.42     8.40   125.44   \n",
       "2       3                        2        12  5.8  8.28     3.63   201.47   \n",
       "3       4                        2        12  5.9  7.01     7.02    75.34   \n",
       "4       5                        2        40  5.9  5.11     2.37    79.24   \n",
       "\n",
       "   Avail_Mg     K     Mg    Mn     Na      P  LandUse  \n",
       "0    329.70  1.64  0.656  1568  0.611  0.159  Cereals  \n",
       "1    346.26  1.85  0.470   791  0.717  0.170  Cereals  \n",
       "2    216.01  1.65  0.323   648  0.832  0.136  Cereals  \n",
       "3    175.44  1.39  0.370   854  0.533  0.154  Cereals  \n",
       "4    113.20  1.87  0.414   633  0.570  0.065  Cereals  "
      ]
     },
     "execution_count": 5,
     "metadata": {},
     "output_type": "execute_result"
    }
   ],
   "source": [
    "df.head()"
   ]
  },
  {
   "cell_type": "code",
   "execution_count": 6,
   "metadata": {
    "collapsed": false
   },
   "outputs": [
    {
     "name": "stdout",
     "output_type": "stream",
     "text": [
      "<class 'pandas.core.frame.DataFrame'>\n",
      "RangeIndex: 1310 entries, 0 to 1309\n",
      "Data columns (total 14 columns):\n",
      "Tag_No                     1310 non-null int64\n",
      "Nucleic acids available    1310 non-null int64\n",
      "SoilAsso                   1310 non-null int64\n",
      "pH                         1310 non-null float64\n",
      "SOC                        1310 non-null float64\n",
      "Avail_P                    1310 non-null float64\n",
      "Avail_K                    1310 non-null float64\n",
      "Avail_Mg                   1310 non-null float64\n",
      "K                          1310 non-null float64\n",
      "Mg                         1310 non-null float64\n",
      "Mn                         1310 non-null int64\n",
      "Na                         1310 non-null float64\n",
      "P                          1310 non-null float64\n",
      "LandUse                    1310 non-null object\n",
      "dtypes: float64(9), int64(4), object(1)\n",
      "memory usage: 138.2+ KB\n"
     ]
    }
   ],
   "source": [
    "df.info()"
   ]
  },
  {
   "cell_type": "code",
   "execution_count": 7,
   "metadata": {
    "collapsed": false
   },
   "outputs": [
    {
     "data": {
      "text/html": [
       "<div>\n",
       "<table border=\"1\" class=\"dataframe\">\n",
       "  <thead>\n",
       "    <tr style=\"text-align: right;\">\n",
       "      <th></th>\n",
       "      <th>Tag_No</th>\n",
       "      <th>Nucleic acids available</th>\n",
       "      <th>SoilAsso</th>\n",
       "      <th>pH</th>\n",
       "      <th>SOC</th>\n",
       "      <th>Avail_P</th>\n",
       "      <th>Avail_K</th>\n",
       "      <th>Avail_Mg</th>\n",
       "      <th>K</th>\n",
       "      <th>Mg</th>\n",
       "      <th>Mn</th>\n",
       "      <th>Na</th>\n",
       "      <th>P</th>\n",
       "    </tr>\n",
       "  </thead>\n",
       "  <tbody>\n",
       "    <tr>\n",
       "      <th>count</th>\n",
       "      <td>1310.000000</td>\n",
       "      <td>1310.000000</td>\n",
       "      <td>1310.000000</td>\n",
       "      <td>1310.000000</td>\n",
       "      <td>1310.000000</td>\n",
       "      <td>1310.000000</td>\n",
       "      <td>1310.000000</td>\n",
       "      <td>1310.000000</td>\n",
       "      <td>1310.00000</td>\n",
       "      <td>1310.000000</td>\n",
       "      <td>1310.000000</td>\n",
       "      <td>1310.000000</td>\n",
       "      <td>1310.000000</td>\n",
       "    </tr>\n",
       "    <tr>\n",
       "      <th>mean</th>\n",
       "      <td>655.500000</td>\n",
       "      <td>1.235878</td>\n",
       "      <td>23.462595</td>\n",
       "      <td>5.329542</td>\n",
       "      <td>13.345649</td>\n",
       "      <td>10.611748</td>\n",
       "      <td>145.416710</td>\n",
       "      <td>218.824786</td>\n",
       "      <td>0.97126</td>\n",
       "      <td>0.351769</td>\n",
       "      <td>703.048855</td>\n",
       "      <td>0.417921</td>\n",
       "      <td>0.110122</td>\n",
       "    </tr>\n",
       "    <tr>\n",
       "      <th>std</th>\n",
       "      <td>378.308736</td>\n",
       "      <td>0.424708</td>\n",
       "      <td>12.876853</td>\n",
       "      <td>0.980780</td>\n",
       "      <td>14.008065</td>\n",
       "      <td>13.765179</td>\n",
       "      <td>94.094048</td>\n",
       "      <td>132.157302</td>\n",
       "      <td>0.53630</td>\n",
       "      <td>0.230592</td>\n",
       "      <td>1184.985507</td>\n",
       "      <td>0.324978</td>\n",
       "      <td>0.052700</td>\n",
       "    </tr>\n",
       "    <tr>\n",
       "      <th>min</th>\n",
       "      <td>1.000000</td>\n",
       "      <td>1.000000</td>\n",
       "      <td>1.000000</td>\n",
       "      <td>3.200000</td>\n",
       "      <td>1.400000</td>\n",
       "      <td>0.560000</td>\n",
       "      <td>4.660000</td>\n",
       "      <td>13.490000</td>\n",
       "      <td>0.02000</td>\n",
       "      <td>0.038000</td>\n",
       "      <td>7.000000</td>\n",
       "      <td>0.015000</td>\n",
       "      <td>0.007000</td>\n",
       "    </tr>\n",
       "    <tr>\n",
       "      <th>25%</th>\n",
       "      <td>328.250000</td>\n",
       "      <td>1.000000</td>\n",
       "      <td>14.000000</td>\n",
       "      <td>4.625000</td>\n",
       "      <td>4.920000</td>\n",
       "      <td>4.322500</td>\n",
       "      <td>82.512500</td>\n",
       "      <td>127.510000</td>\n",
       "      <td>0.59000</td>\n",
       "      <td>0.196000</td>\n",
       "      <td>190.000000</td>\n",
       "      <td>0.205000</td>\n",
       "      <td>0.075000</td>\n",
       "    </tr>\n",
       "    <tr>\n",
       "      <th>50%</th>\n",
       "      <td>655.500000</td>\n",
       "      <td>1.000000</td>\n",
       "      <td>24.500000</td>\n",
       "      <td>5.300000</td>\n",
       "      <td>7.000000</td>\n",
       "      <td>7.045000</td>\n",
       "      <td>124.010000</td>\n",
       "      <td>186.130000</td>\n",
       "      <td>0.98000</td>\n",
       "      <td>0.297500</td>\n",
       "      <td>462.000000</td>\n",
       "      <td>0.337500</td>\n",
       "      <td>0.105000</td>\n",
       "    </tr>\n",
       "    <tr>\n",
       "      <th>75%</th>\n",
       "      <td>982.750000</td>\n",
       "      <td>1.000000</td>\n",
       "      <td>34.000000</td>\n",
       "      <td>6.100000</td>\n",
       "      <td>14.257500</td>\n",
       "      <td>12.467500</td>\n",
       "      <td>181.947500</td>\n",
       "      <td>276.280000</td>\n",
       "      <td>1.33000</td>\n",
       "      <td>0.428750</td>\n",
       "      <td>844.000000</td>\n",
       "      <td>0.544750</td>\n",
       "      <td>0.136000</td>\n",
       "    </tr>\n",
       "    <tr>\n",
       "      <th>max</th>\n",
       "      <td>1310.000000</td>\n",
       "      <td>2.000000</td>\n",
       "      <td>44.000000</td>\n",
       "      <td>7.700000</td>\n",
       "      <td>55.800000</td>\n",
       "      <td>316.410000</td>\n",
       "      <td>949.230000</td>\n",
       "      <td>1001.970000</td>\n",
       "      <td>2.64000</td>\n",
       "      <td>2.096000</td>\n",
       "      <td>21077.000000</td>\n",
       "      <td>2.254000</td>\n",
       "      <td>0.493000</td>\n",
       "    </tr>\n",
       "  </tbody>\n",
       "</table>\n",
       "</div>"
      ],
      "text/plain": [
       "            Tag_No  Nucleic acids available     SoilAsso           pH  \\\n",
       "count  1310.000000              1310.000000  1310.000000  1310.000000   \n",
       "mean    655.500000                 1.235878    23.462595     5.329542   \n",
       "std     378.308736                 0.424708    12.876853     0.980780   \n",
       "min       1.000000                 1.000000     1.000000     3.200000   \n",
       "25%     328.250000                 1.000000    14.000000     4.625000   \n",
       "50%     655.500000                 1.000000    24.500000     5.300000   \n",
       "75%     982.750000                 1.000000    34.000000     6.100000   \n",
       "max    1310.000000                 2.000000    44.000000     7.700000   \n",
       "\n",
       "               SOC      Avail_P      Avail_K     Avail_Mg           K  \\\n",
       "count  1310.000000  1310.000000  1310.000000  1310.000000  1310.00000   \n",
       "mean     13.345649    10.611748   145.416710   218.824786     0.97126   \n",
       "std      14.008065    13.765179    94.094048   132.157302     0.53630   \n",
       "min       1.400000     0.560000     4.660000    13.490000     0.02000   \n",
       "25%       4.920000     4.322500    82.512500   127.510000     0.59000   \n",
       "50%       7.000000     7.045000   124.010000   186.130000     0.98000   \n",
       "75%      14.257500    12.467500   181.947500   276.280000     1.33000   \n",
       "max      55.800000   316.410000   949.230000  1001.970000     2.64000   \n",
       "\n",
       "                Mg            Mn           Na            P  \n",
       "count  1310.000000   1310.000000  1310.000000  1310.000000  \n",
       "mean      0.351769    703.048855     0.417921     0.110122  \n",
       "std       0.230592   1184.985507     0.324978     0.052700  \n",
       "min       0.038000      7.000000     0.015000     0.007000  \n",
       "25%       0.196000    190.000000     0.205000     0.075000  \n",
       "50%       0.297500    462.000000     0.337500     0.105000  \n",
       "75%       0.428750    844.000000     0.544750     0.136000  \n",
       "max       2.096000  21077.000000     2.254000     0.493000  "
      ]
     },
     "execution_count": 7,
     "metadata": {},
     "output_type": "execute_result"
    }
   ],
   "source": [
    "df.describe() #This shows descriptive statistics of continuous features "
   ]
  },
  {
   "cell_type": "markdown",
   "metadata": {},
   "source": [
    "Using Box and Whisker Plots to describe the variables"
   ]
  },
  {
   "cell_type": "code",
   "execution_count": 8,
   "metadata": {
    "collapsed": false
   },
   "outputs": [
    {
     "data": {
      "image/png": "[encoded data removed]",
      "text/plain": [
       "<matplotlib.figure.Figure at 0xbf4f7d0>"
      ]
     },
     "metadata": {},
     "output_type": "display_data"
    }
   ],
   "source": [
    "plt.hist(df.SoilAsso, alpha=.3)\n",
    "plt.show()"
   ]
  },
  {
   "cell_type": "markdown",
   "metadata": {},
   "source": [
    "'''Although it's  not normally distributed, you can note the absence of outliers'''"
   ]
  },
  {
   "cell_type": "code",
   "execution_count": 9,
   "metadata": {
    "collapsed": false
   },
   "outputs": [
    {
     "data": {
      "text/plain": [
       "<seaborn.axisgrid.FacetGrid at 0xbf27eb0>"
      ]
     },
     "execution_count": 9,
     "metadata": {},
     "output_type": "execute_result"
    },
    {
     "data": {
      "image/png": "[encoded data removed]",
      "text/plain": [
       "<matplotlib.figure.Figure at 0xd1973f0>"
      ]
     },
     "metadata": {},
     "output_type": "display_data"
    }
   ],
   "source": [
    "sns.lmplot('Avail_P', 'P', data=df)   #comparing available P andP with a scatter plot "
   ]
  },
  {
   "cell_type": "code",
   "execution_count": 10,
   "metadata": {
    "collapsed": false
   },
   "outputs": [
    {
     "data": {
      "text/plain": [
       "<seaborn.axisgrid.FacetGrid at 0xd70fbf0>"
      ]
     },
     "execution_count": 10,
     "metadata": {},
     "output_type": "execute_result"
    },
    {
     "data": {
      "image/png": "[encoded data removed]",
      "text/plain": [
       "<matplotlib.figure.Figure at 0xd70fc90>"
      ]
     },
     "metadata": {},
     "output_type": "display_data"
    }
   ],
   "source": [
    "sns.lmplot('Avail_Mg', 'Mg', data=df)"
   ]
  },
  {
   "cell_type": "code",
   "execution_count": 11,
   "metadata": {
    "collapsed": false
   },
   "outputs": [
    {
     "data": {
      "image/png": "[encoded data removed]",
      "text/plain": [
       "<matplotlib.figure.Figure at 0xd26e430>"
      ]
     },
     "metadata": {},
     "output_type": "display_data"
    }
   ],
   "source": [
    "plt.hist(df.Avail_P, alpha=.3)\n",
    "sns.rugplot(df.Avail_P);"
   ]
  },
  {
   "cell_type": "code",
   "execution_count": 12,
   "metadata": {
    "collapsed": false,
    "scrolled": true
   },
   "outputs": [
    {
     "data": {
      "image/png": "[encoded data removed]",
      "text/plain": [
       "<matplotlib.figure.Figure at 0xd2cd0f0>"
      ]
     },
     "metadata": {},
     "output_type": "display_data"
    }
   ],
   "source": [
    "plt.hist(df.Avail_Mg, alpha=.3, bins=10)      \n",
    "sns.rugplot(df.Avail_Mg);"
   ]
  },
  {
   "cell_type": "code",
   "execution_count": 13,
   "metadata": {
    "collapsed": false
   },
   "outputs": [
    {
     "data": {
      "text/plain": [
       "<seaborn.matrix.ClusterGrid at 0x7d6acb0>"
      ]
     },
     "execution_count": 13,
     "metadata": {},
     "output_type": "execute_result"
    },
    {
     "data": {
      "image/png": "[encoded data removed]",
      "text/plain": [
       "<matplotlib.figure.Figure at 0xe33b050>"
      ]
     },
     "metadata": {},
     "output_type": "display_data"
    }
   ],
   "source": [
    "df1=df[df.columns.difference(['LandUse'])]\n",
    "sns.clustermap(df1)"
   ]
  },
  {
   "cell_type": "markdown",
   "metadata": {},
   "source": [
    "Next, we would build a correlation matrix. This woulld help us check if we have multicolinearity between our independent variables."
   ]
  },
  {
   "cell_type": "code",
   "execution_count": 14,
   "metadata": {
    "collapsed": false
   },
   "outputs": [
    {
     "data": {
      "text/html": [
       "<div>\n",
       "<table border=\"1\" class=\"dataframe\">\n",
       "  <thead>\n",
       "    <tr style=\"text-align: right;\">\n",
       "      <th></th>\n",
       "      <th>Tag_No</th>\n",
       "      <th>Nucleic acids available</th>\n",
       "      <th>SoilAsso</th>\n",
       "      <th>pH</th>\n",
       "      <th>SOC</th>\n",
       "      <th>Avail_P</th>\n",
       "      <th>Avail_K</th>\n",
       "      <th>Avail_Mg</th>\n",
       "      <th>K</th>\n",
       "      <th>Mg</th>\n",
       "      <th>Mn</th>\n",
       "      <th>Na</th>\n",
       "      <th>P</th>\n",
       "    </tr>\n",
       "  </thead>\n",
       "  <tbody>\n",
       "    <tr>\n",
       "      <th>Tag_No</th>\n",
       "      <td>1.000000</td>\n",
       "      <td>-0.674485</td>\n",
       "      <td>0.118979</td>\n",
       "      <td>-0.366349</td>\n",
       "      <td>0.241150</td>\n",
       "      <td>-0.001426</td>\n",
       "      <td>-0.003349</td>\n",
       "      <td>0.108954</td>\n",
       "      <td>-0.276282</td>\n",
       "      <td>0.060578</td>\n",
       "      <td>-0.148101</td>\n",
       "      <td>0.143866</td>\n",
       "      <td>-0.098941</td>\n",
       "    </tr>\n",
       "    <tr>\n",
       "      <th>Nucleic acids available</th>\n",
       "      <td>-0.674485</td>\n",
       "      <td>1.000000</td>\n",
       "      <td>0.005037</td>\n",
       "      <td>0.379218</td>\n",
       "      <td>-0.157615</td>\n",
       "      <td>-0.002504</td>\n",
       "      <td>-0.037707</td>\n",
       "      <td>-0.037063</td>\n",
       "      <td>0.264666</td>\n",
       "      <td>0.075027</td>\n",
       "      <td>0.095690</td>\n",
       "      <td>0.075400</td>\n",
       "      <td>0.010146</td>\n",
       "    </tr>\n",
       "    <tr>\n",
       "      <th>SoilAsso</th>\n",
       "      <td>0.118979</td>\n",
       "      <td>0.005037</td>\n",
       "      <td>1.000000</td>\n",
       "      <td>0.281923</td>\n",
       "      <td>-0.071050</td>\n",
       "      <td>0.069530</td>\n",
       "      <td>0.037017</td>\n",
       "      <td>0.111312</td>\n",
       "      <td>-0.235982</td>\n",
       "      <td>-0.007758</td>\n",
       "      <td>0.001831</td>\n",
       "      <td>-0.152366</td>\n",
       "      <td>0.000606</td>\n",
       "    </tr>\n",
       "    <tr>\n",
       "      <th>pH</th>\n",
       "      <td>-0.366349</td>\n",
       "      <td>0.379218</td>\n",
       "      <td>0.281923</td>\n",
       "      <td>1.000000</td>\n",
       "      <td>-0.588088</td>\n",
       "      <td>0.139576</td>\n",
       "      <td>0.098266</td>\n",
       "      <td>-0.050938</td>\n",
       "      <td>0.314476</td>\n",
       "      <td>0.318875</td>\n",
       "      <td>0.202236</td>\n",
       "      <td>0.119647</td>\n",
       "      <td>0.310511</td>\n",
       "    </tr>\n",
       "    <tr>\n",
       "      <th>SOC</th>\n",
       "      <td>0.241150</td>\n",
       "      <td>-0.157615</td>\n",
       "      <td>-0.071050</td>\n",
       "      <td>-0.588088</td>\n",
       "      <td>1.000000</td>\n",
       "      <td>0.118300</td>\n",
       "      <td>-0.045451</td>\n",
       "      <td>0.498226</td>\n",
       "      <td>-0.629748</td>\n",
       "      <td>-0.357787</td>\n",
       "      <td>-0.149287</td>\n",
       "      <td>-0.374393</td>\n",
       "      <td>-0.271815</td>\n",
       "    </tr>\n",
       "    <tr>\n",
       "      <th>Avail_P</th>\n",
       "      <td>-0.001426</td>\n",
       "      <td>-0.002504</td>\n",
       "      <td>0.069530</td>\n",
       "      <td>0.139576</td>\n",
       "      <td>0.118300</td>\n",
       "      <td>1.000000</td>\n",
       "      <td>0.414896</td>\n",
       "      <td>0.300877</td>\n",
       "      <td>-0.152386</td>\n",
       "      <td>-0.035222</td>\n",
       "      <td>-0.033376</td>\n",
       "      <td>-0.124933</td>\n",
       "      <td>0.322176</td>\n",
       "    </tr>\n",
       "    <tr>\n",
       "      <th>Avail_K</th>\n",
       "      <td>-0.003349</td>\n",
       "      <td>-0.037707</td>\n",
       "      <td>0.037017</td>\n",
       "      <td>0.098266</td>\n",
       "      <td>-0.045451</td>\n",
       "      <td>0.414896</td>\n",
       "      <td>1.000000</td>\n",
       "      <td>0.203485</td>\n",
       "      <td>0.077866</td>\n",
       "      <td>0.134911</td>\n",
       "      <td>0.043673</td>\n",
       "      <td>0.051256</td>\n",
       "      <td>0.445943</td>\n",
       "    </tr>\n",
       "    <tr>\n",
       "      <th>Avail_Mg</th>\n",
       "      <td>0.108954</td>\n",
       "      <td>-0.037063</td>\n",
       "      <td>0.111312</td>\n",
       "      <td>-0.050938</td>\n",
       "      <td>0.498226</td>\n",
       "      <td>0.300877</td>\n",
       "      <td>0.203485</td>\n",
       "      <td>1.000000</td>\n",
       "      <td>-0.331233</td>\n",
       "      <td>-0.004002</td>\n",
       "      <td>-0.078513</td>\n",
       "      <td>-0.199786</td>\n",
       "      <td>0.046311</td>\n",
       "    </tr>\n",
       "    <tr>\n",
       "      <th>K</th>\n",
       "      <td>-0.276282</td>\n",
       "      <td>0.264666</td>\n",
       "      <td>-0.235982</td>\n",
       "      <td>0.314476</td>\n",
       "      <td>-0.629748</td>\n",
       "      <td>-0.152386</td>\n",
       "      <td>0.077866</td>\n",
       "      <td>-0.331233</td>\n",
       "      <td>1.000000</td>\n",
       "      <td>0.501647</td>\n",
       "      <td>0.138882</td>\n",
       "      <td>0.657614</td>\n",
       "      <td>0.277260</td>\n",
       "    </tr>\n",
       "    <tr>\n",
       "      <th>Mg</th>\n",
       "      <td>0.060578</td>\n",
       "      <td>0.075027</td>\n",
       "      <td>-0.007758</td>\n",
       "      <td>0.318875</td>\n",
       "      <td>-0.357787</td>\n",
       "      <td>-0.035222</td>\n",
       "      <td>0.134911</td>\n",
       "      <td>-0.004002</td>\n",
       "      <td>0.501647</td>\n",
       "      <td>1.000000</td>\n",
       "      <td>0.122263</td>\n",
       "      <td>0.525503</td>\n",
       "      <td>0.294213</td>\n",
       "    </tr>\n",
       "    <tr>\n",
       "      <th>Mn</th>\n",
       "      <td>-0.148101</td>\n",
       "      <td>0.095690</td>\n",
       "      <td>0.001831</td>\n",
       "      <td>0.202236</td>\n",
       "      <td>-0.149287</td>\n",
       "      <td>-0.033376</td>\n",
       "      <td>0.043673</td>\n",
       "      <td>-0.078513</td>\n",
       "      <td>0.138882</td>\n",
       "      <td>0.122263</td>\n",
       "      <td>1.000000</td>\n",
       "      <td>0.051531</td>\n",
       "      <td>0.261687</td>\n",
       "    </tr>\n",
       "    <tr>\n",
       "      <th>Na</th>\n",
       "      <td>0.143866</td>\n",
       "      <td>0.075400</td>\n",
       "      <td>-0.152366</td>\n",
       "      <td>0.119647</td>\n",
       "      <td>-0.374393</td>\n",
       "      <td>-0.124933</td>\n",
       "      <td>0.051256</td>\n",
       "      <td>-0.199786</td>\n",
       "      <td>0.657614</td>\n",
       "      <td>0.525503</td>\n",
       "      <td>0.051531</td>\n",
       "      <td>1.000000</td>\n",
       "      <td>0.181021</td>\n",
       "    </tr>\n",
       "    <tr>\n",
       "      <th>P</th>\n",
       "      <td>-0.098941</td>\n",
       "      <td>0.010146</td>\n",
       "      <td>0.000606</td>\n",
       "      <td>0.310511</td>\n",
       "      <td>-0.271815</td>\n",
       "      <td>0.322176</td>\n",
       "      <td>0.445943</td>\n",
       "      <td>0.046311</td>\n",
       "      <td>0.277260</td>\n",
       "      <td>0.294213</td>\n",
       "      <td>0.261687</td>\n",
       "      <td>0.181021</td>\n",
       "      <td>1.000000</td>\n",
       "    </tr>\n",
       "  </tbody>\n",
       "</table>\n",
       "</div>"
      ],
      "text/plain": [
       "                           Tag_No  Nucleic acids available  SoilAsso  \\\n",
       "Tag_No                   1.000000                -0.674485  0.118979   \n",
       "Nucleic acids available -0.674485                 1.000000  0.005037   \n",
       "SoilAsso                 0.118979                 0.005037  1.000000   \n",
       "pH                      -0.366349                 0.379218  0.281923   \n",
       "SOC                      0.241150                -0.157615 -0.071050   \n",
       "Avail_P                 -0.001426                -0.002504  0.069530   \n",
       "Avail_K                 -0.003349                -0.037707  0.037017   \n",
       "Avail_Mg                 0.108954                -0.037063  0.111312   \n",
       "K                       -0.276282                 0.264666 -0.235982   \n",
       "Mg                       0.060578                 0.075027 -0.007758   \n",
       "Mn                      -0.148101                 0.095690  0.001831   \n",
       "Na                       0.143866                 0.075400 -0.152366   \n",
       "P                       -0.098941                 0.010146  0.000606   \n",
       "\n",
       "                               pH       SOC   Avail_P   Avail_K  Avail_Mg  \\\n",
       "Tag_No                  -0.366349  0.241150 -0.001426 -0.003349  0.108954   \n",
       "Nucleic acids available  0.379218 -0.157615 -0.002504 -0.037707 -0.037063   \n",
       "SoilAsso                 0.281923 -0.071050  0.069530  0.037017  0.111312   \n",
       "pH                       1.000000 -0.588088  0.139576  0.098266 -0.050938   \n",
       "SOC                     -0.588088  1.000000  0.118300 -0.045451  0.498226   \n",
       "Avail_P                  0.139576  0.118300  1.000000  0.414896  0.300877   \n",
       "Avail_K                  0.098266 -0.045451  0.414896  1.000000  0.203485   \n",
       "Avail_Mg                -0.050938  0.498226  0.300877  0.203485  1.000000   \n",
       "K                        0.314476 -0.629748 -0.152386  0.077866 -0.331233   \n",
       "Mg                       0.318875 -0.357787 -0.035222  0.134911 -0.004002   \n",
       "Mn                       0.202236 -0.149287 -0.033376  0.043673 -0.078513   \n",
       "Na                       0.119647 -0.374393 -0.124933  0.051256 -0.199786   \n",
       "P                        0.310511 -0.271815  0.322176  0.445943  0.046311   \n",
       "\n",
       "                                K        Mg        Mn        Na         P  \n",
       "Tag_No                  -0.276282  0.060578 -0.148101  0.143866 -0.098941  \n",
       "Nucleic acids available  0.264666  0.075027  0.095690  0.075400  0.010146  \n",
       "SoilAsso                -0.235982 -0.007758  0.001831 -0.152366  0.000606  \n",
       "pH                       0.314476  0.318875  0.202236  0.119647  0.310511  \n",
       "SOC                     -0.629748 -0.357787 -0.149287 -0.374393 -0.271815  \n",
       "Avail_P                 -0.152386 -0.035222 -0.033376 -0.124933  0.322176  \n",
       "Avail_K                  0.077866  0.134911  0.043673  0.051256  0.445943  \n",
       "Avail_Mg                -0.331233 -0.004002 -0.078513 -0.199786  0.046311  \n",
       "K                        1.000000  0.501647  0.138882  0.657614  0.277260  \n",
       "Mg                       0.501647  1.000000  0.122263  0.525503  0.294213  \n",
       "Mn                       0.138882  0.122263  1.000000  0.051531  0.261687  \n",
       "Na                       0.657614  0.525503  0.051531  1.000000  0.181021  \n",
       "P                        0.277260  0.294213  0.261687  0.181021  1.000000  "
      ]
     },
     "execution_count": 14,
     "metadata": {},
     "output_type": "execute_result"
    }
   ],
   "source": [
    "\n",
    "corr_dataset = df.corr()\n",
    "corr_dataset"
   ]
  },
  {
   "cell_type": "markdown",
   "metadata": {},
   "source": [
    "### Feature Engineering\n",
    "\n",
    "After exploring the properties of our features we can now tinker with them "
   ]
  },
  {
   "cell_type": "code",
   "execution_count": 15,
   "metadata": {
    "collapsed": false
   },
   "outputs": [],
   "source": [
    "\n",
    "#We would do standardize our features so that they are on the same scale.\n",
    "#This way, we can combine some features and see if the predictive effect is better "
   ]
  },
  {
   "cell_type": "code",
   "execution_count": 16,
   "metadata": {
    "collapsed": false
   },
   "outputs": [],
   "source": [
    "scaler = StandardScaler()\n",
    " \n",
    "df[['Avail_P','Avail_Mg','Avail_K', 'P','Mg','Na','K']] =scaler.fit_transform(df[['Avail_P','Avail_Mg','Avail_K', 'P','Mg','Na','K']])\n"
   ]
  },
  {
   "cell_type": "code",
   "execution_count": 17,
   "metadata": {
    "collapsed": false
   },
   "outputs": [
    {
     "data": {
      "text/html": [
       "<div>\n",
       "<table border=\"1\" class=\"dataframe\">\n",
       "  <thead>\n",
       "    <tr style=\"text-align: right;\">\n",
       "      <th></th>\n",
       "      <th>Tag_No</th>\n",
       "      <th>Nucleic acids available</th>\n",
       "      <th>SoilAsso</th>\n",
       "      <th>pH</th>\n",
       "      <th>SOC</th>\n",
       "      <th>Avail_P</th>\n",
       "      <th>Avail_K</th>\n",
       "      <th>Avail_Mg</th>\n",
       "      <th>K</th>\n",
       "      <th>Mg</th>\n",
       "      <th>Mn</th>\n",
       "      <th>Na</th>\n",
       "      <th>P</th>\n",
       "      <th>LandUse</th>\n",
       "    </tr>\n",
       "  </thead>\n",
       "  <tbody>\n",
       "    <tr>\n",
       "      <th>0</th>\n",
       "      <td>1</td>\n",
       "      <td>2</td>\n",
       "      <td>12</td>\n",
       "      <td>6.2</td>\n",
       "      <td>6.49</td>\n",
       "      <td>-0.356960</td>\n",
       "      <td>0.019278</td>\n",
       "      <td>0.839284</td>\n",
       "      <td>1.247429</td>\n",
       "      <td>1.319848</td>\n",
       "      <td>1568</td>\n",
       "      <td>0.594357</td>\n",
       "      <td>0.927830</td>\n",
       "      <td>Cereals</td>\n",
       "    </tr>\n",
       "    <tr>\n",
       "      <th>1</th>\n",
       "      <td>2</td>\n",
       "      <td>2</td>\n",
       "      <td>12</td>\n",
       "      <td>6.0</td>\n",
       "      <td>6.42</td>\n",
       "      <td>-0.160738</td>\n",
       "      <td>-0.212387</td>\n",
       "      <td>0.964637</td>\n",
       "      <td>1.639150</td>\n",
       "      <td>0.512922</td>\n",
       "      <td>791</td>\n",
       "      <td>0.920657</td>\n",
       "      <td>1.136639</td>\n",
       "      <td>Cereals</td>\n",
       "    </tr>\n",
       "    <tr>\n",
       "      <th>2</th>\n",
       "      <td>3</td>\n",
       "      <td>2</td>\n",
       "      <td>12</td>\n",
       "      <td>5.8</td>\n",
       "      <td>8.28</td>\n",
       "      <td>-0.507397</td>\n",
       "      <td>0.595943</td>\n",
       "      <td>-0.021307</td>\n",
       "      <td>1.266082</td>\n",
       "      <td>-0.124811</td>\n",
       "      <td>648</td>\n",
       "      <td>1.274662</td>\n",
       "      <td>0.491230</td>\n",
       "      <td>Cereals</td>\n",
       "    </tr>\n",
       "    <tr>\n",
       "      <th>3</th>\n",
       "      <td>4</td>\n",
       "      <td>2</td>\n",
       "      <td>12</td>\n",
       "      <td>5.9</td>\n",
       "      <td>7.01</td>\n",
       "      <td>-0.261030</td>\n",
       "      <td>-0.745036</td>\n",
       "      <td>-0.328407</td>\n",
       "      <td>0.781094</td>\n",
       "      <td>0.079090</td>\n",
       "      <td>854</td>\n",
       "      <td>0.354249</td>\n",
       "      <td>0.832917</td>\n",
       "      <td>Cereals</td>\n",
       "    </tr>\n",
       "    <tr>\n",
       "      <th>4</th>\n",
       "      <td>5</td>\n",
       "      <td>2</td>\n",
       "      <td>40</td>\n",
       "      <td>5.9</td>\n",
       "      <td>5.11</td>\n",
       "      <td>-0.598968</td>\n",
       "      <td>-0.703572</td>\n",
       "      <td>-0.799541</td>\n",
       "      <td>1.676457</td>\n",
       "      <td>0.269976</td>\n",
       "      <td>633</td>\n",
       "      <td>0.468146</td>\n",
       "      <td>-0.856536</td>\n",
       "      <td>Cereals</td>\n",
       "    </tr>\n",
       "  </tbody>\n",
       "</table>\n",
       "</div>"
      ],
      "text/plain": [
       "   Tag_No  Nucleic acids available  SoilAsso   pH   SOC   Avail_P   Avail_K  \\\n",
       "0       1                        2        12  6.2  6.49 -0.356960  0.019278   \n",
       "1       2                        2        12  6.0  6.42 -0.160738 -0.212387   \n",
       "2       3                        2        12  5.8  8.28 -0.507397  0.595943   \n",
       "3       4                        2        12  5.9  7.01 -0.261030 -0.745036   \n",
       "4       5                        2        40  5.9  5.11 -0.598968 -0.703572   \n",
       "\n",
       "   Avail_Mg         K        Mg    Mn        Na         P  LandUse  \n",
       "0  0.839284  1.247429  1.319848  1568  0.594357  0.927830  Cereals  \n",
       "1  0.964637  1.639150  0.512922   791  0.920657  1.136639  Cereals  \n",
       "2 -0.021307  1.266082 -0.124811   648  1.274662  0.491230  Cereals  \n",
       "3 -0.328407  0.781094  0.079090   854  0.354249  0.832917  Cereals  \n",
       "4 -0.799541  1.676457  0.269976   633  0.468146 -0.856536  Cereals  "
      ]
     },
     "execution_count": 17,
     "metadata": {},
     "output_type": "execute_result"
    }
   ],
   "source": [
    "df.head()"
   ]
  },
  {
   "cell_type": "code",
   "execution_count": 18,
   "metadata": {
    "collapsed": true
   },
   "outputs": [],
   "source": [
    "df['TotalP'] = df['Avail_P'] + df['P']\n",
    "df['TotalK'] = df['Avail_K'] + df['K']\n",
    "df['TotalMg'] = df['Avail_Mg'] + df['Mg']"
   ]
  },
  {
   "cell_type": "code",
   "execution_count": 19,
   "metadata": {
    "collapsed": false,
    "scrolled": true
   },
   "outputs": [
    {
     "data": {
      "text/html": [
       "<div>\n",
       "<table border=\"1\" class=\"dataframe\">\n",
       "  <thead>\n",
       "    <tr style=\"text-align: right;\">\n",
       "      <th></th>\n",
       "      <th>Tag_No</th>\n",
       "      <th>Nucleic acids available</th>\n",
       "      <th>SoilAsso</th>\n",
       "      <th>pH</th>\n",
       "      <th>SOC</th>\n",
       "      <th>Avail_P</th>\n",
       "      <th>Avail_K</th>\n",
       "      <th>Avail_Mg</th>\n",
       "      <th>K</th>\n",
       "      <th>Mg</th>\n",
       "      <th>Mn</th>\n",
       "      <th>Na</th>\n",
       "      <th>P</th>\n",
       "      <th>LandUse</th>\n",
       "      <th>TotalP</th>\n",
       "      <th>TotalK</th>\n",
       "      <th>TotalMg</th>\n",
       "    </tr>\n",
       "  </thead>\n",
       "  <tbody>\n",
       "    <tr>\n",
       "      <th>0</th>\n",
       "      <td>1</td>\n",
       "      <td>2</td>\n",
       "      <td>12</td>\n",
       "      <td>6.2</td>\n",
       "      <td>6.49</td>\n",
       "      <td>-0.356960</td>\n",
       "      <td>0.019278</td>\n",
       "      <td>0.839284</td>\n",
       "      <td>1.247429</td>\n",
       "      <td>1.319848</td>\n",
       "      <td>1568</td>\n",
       "      <td>0.594357</td>\n",
       "      <td>0.927830</td>\n",
       "      <td>Cereals</td>\n",
       "      <td>0.570870</td>\n",
       "      <td>1.266707</td>\n",
       "      <td>2.159133</td>\n",
       "    </tr>\n",
       "    <tr>\n",
       "      <th>1</th>\n",
       "      <td>2</td>\n",
       "      <td>2</td>\n",
       "      <td>12</td>\n",
       "      <td>6.0</td>\n",
       "      <td>6.42</td>\n",
       "      <td>-0.160738</td>\n",
       "      <td>-0.212387</td>\n",
       "      <td>0.964637</td>\n",
       "      <td>1.639150</td>\n",
       "      <td>0.512922</td>\n",
       "      <td>791</td>\n",
       "      <td>0.920657</td>\n",
       "      <td>1.136639</td>\n",
       "      <td>Cereals</td>\n",
       "      <td>0.975900</td>\n",
       "      <td>1.426763</td>\n",
       "      <td>1.477559</td>\n",
       "    </tr>\n",
       "    <tr>\n",
       "      <th>2</th>\n",
       "      <td>3</td>\n",
       "      <td>2</td>\n",
       "      <td>12</td>\n",
       "      <td>5.8</td>\n",
       "      <td>8.28</td>\n",
       "      <td>-0.507397</td>\n",
       "      <td>0.595943</td>\n",
       "      <td>-0.021307</td>\n",
       "      <td>1.266082</td>\n",
       "      <td>-0.124811</td>\n",
       "      <td>648</td>\n",
       "      <td>1.274662</td>\n",
       "      <td>0.491230</td>\n",
       "      <td>Cereals</td>\n",
       "      <td>-0.016168</td>\n",
       "      <td>1.862025</td>\n",
       "      <td>-0.146118</td>\n",
       "    </tr>\n",
       "    <tr>\n",
       "      <th>3</th>\n",
       "      <td>4</td>\n",
       "      <td>2</td>\n",
       "      <td>12</td>\n",
       "      <td>5.9</td>\n",
       "      <td>7.01</td>\n",
       "      <td>-0.261030</td>\n",
       "      <td>-0.745036</td>\n",
       "      <td>-0.328407</td>\n",
       "      <td>0.781094</td>\n",
       "      <td>0.079090</td>\n",
       "      <td>854</td>\n",
       "      <td>0.354249</td>\n",
       "      <td>0.832917</td>\n",
       "      <td>Cereals</td>\n",
       "      <td>0.571887</td>\n",
       "      <td>0.036057</td>\n",
       "      <td>-0.249317</td>\n",
       "    </tr>\n",
       "    <tr>\n",
       "      <th>4</th>\n",
       "      <td>5</td>\n",
       "      <td>2</td>\n",
       "      <td>40</td>\n",
       "      <td>5.9</td>\n",
       "      <td>5.11</td>\n",
       "      <td>-0.598968</td>\n",
       "      <td>-0.703572</td>\n",
       "      <td>-0.799541</td>\n",
       "      <td>1.676457</td>\n",
       "      <td>0.269976</td>\n",
       "      <td>633</td>\n",
       "      <td>0.468146</td>\n",
       "      <td>-0.856536</td>\n",
       "      <td>Cereals</td>\n",
       "      <td>-1.455504</td>\n",
       "      <td>0.972884</td>\n",
       "      <td>-0.529565</td>\n",
       "    </tr>\n",
       "  </tbody>\n",
       "</table>\n",
       "</div>"
      ],
      "text/plain": [
       "   Tag_No  Nucleic acids available  SoilAsso   pH   SOC   Avail_P   Avail_K  \\\n",
       "0       1                        2        12  6.2  6.49 -0.356960  0.019278   \n",
       "1       2                        2        12  6.0  6.42 -0.160738 -0.212387   \n",
       "2       3                        2        12  5.8  8.28 -0.507397  0.595943   \n",
       "3       4                        2        12  5.9  7.01 -0.261030 -0.745036   \n",
       "4       5                        2        40  5.9  5.11 -0.598968 -0.703572   \n",
       "\n",
       "   Avail_Mg         K        Mg    Mn        Na         P  LandUse    TotalP  \\\n",
       "0  0.839284  1.247429  1.319848  1568  0.594357  0.927830  Cereals  0.570870   \n",
       "1  0.964637  1.639150  0.512922   791  0.920657  1.136639  Cereals  0.975900   \n",
       "2 -0.021307  1.266082 -0.124811   648  1.274662  0.491230  Cereals -0.016168   \n",
       "3 -0.328407  0.781094  0.079090   854  0.354249  0.832917  Cereals  0.571887   \n",
       "4 -0.799541  1.676457  0.269976   633  0.468146 -0.856536  Cereals -1.455504   \n",
       "\n",
       "     TotalK   TotalMg  \n",
       "0  1.266707  2.159133  \n",
       "1  1.426763  1.477559  \n",
       "2  1.862025 -0.146118  \n",
       "3  0.036057 -0.249317  \n",
       "4  0.972884 -0.529565  "
      ]
     },
     "execution_count": 19,
     "metadata": {},
     "output_type": "execute_result"
    }
   ],
   "source": [
    "df.head()"
   ]
  },
  {
   "cell_type": "code",
   "execution_count": 20,
   "metadata": {
    "collapsed": false
   },
   "outputs": [],
   "source": [
    "#So we'll drop the columns we do not need\n",
    "df1= df[df.columns.difference(['SoilAsso', 'Tag_No', 'Mn','Nucleic acids available','Avail_P','Avail_Mg','Avail_K', 'P','Mg','K'])]"
   ]
  },
  {
   "cell_type": "code",
   "execution_count": 21,
   "metadata": {
    "collapsed": false
   },
   "outputs": [
    {
     "data": {
      "text/html": [
       "<div>\n",
       "<table border=\"1\" class=\"dataframe\">\n",
       "  <thead>\n",
       "    <tr style=\"text-align: right;\">\n",
       "      <th></th>\n",
       "      <th>LandUse</th>\n",
       "      <th>Na</th>\n",
       "      <th>SOC</th>\n",
       "      <th>TotalK</th>\n",
       "      <th>TotalMg</th>\n",
       "      <th>TotalP</th>\n",
       "      <th>pH</th>\n",
       "    </tr>\n",
       "  </thead>\n",
       "  <tbody>\n",
       "    <tr>\n",
       "      <th>0</th>\n",
       "      <td>Cereals</td>\n",
       "      <td>0.594357</td>\n",
       "      <td>6.49</td>\n",
       "      <td>1.266707</td>\n",
       "      <td>2.159133</td>\n",
       "      <td>0.570870</td>\n",
       "      <td>6.2</td>\n",
       "    </tr>\n",
       "    <tr>\n",
       "      <th>1</th>\n",
       "      <td>Cereals</td>\n",
       "      <td>0.920657</td>\n",
       "      <td>6.42</td>\n",
       "      <td>1.426763</td>\n",
       "      <td>1.477559</td>\n",
       "      <td>0.975900</td>\n",
       "      <td>6.0</td>\n",
       "    </tr>\n",
       "    <tr>\n",
       "      <th>2</th>\n",
       "      <td>Cereals</td>\n",
       "      <td>1.274662</td>\n",
       "      <td>8.28</td>\n",
       "      <td>1.862025</td>\n",
       "      <td>-0.146118</td>\n",
       "      <td>-0.016168</td>\n",
       "      <td>5.8</td>\n",
       "    </tr>\n",
       "    <tr>\n",
       "      <th>3</th>\n",
       "      <td>Cereals</td>\n",
       "      <td>0.354249</td>\n",
       "      <td>7.01</td>\n",
       "      <td>0.036057</td>\n",
       "      <td>-0.249317</td>\n",
       "      <td>0.571887</td>\n",
       "      <td>5.9</td>\n",
       "    </tr>\n",
       "    <tr>\n",
       "      <th>4</th>\n",
       "      <td>Cereals</td>\n",
       "      <td>0.468146</td>\n",
       "      <td>5.11</td>\n",
       "      <td>0.972884</td>\n",
       "      <td>-0.529565</td>\n",
       "      <td>-1.455504</td>\n",
       "      <td>5.9</td>\n",
       "    </tr>\n",
       "  </tbody>\n",
       "</table>\n",
       "</div>"
      ],
      "text/plain": [
       "   LandUse        Na   SOC    TotalK   TotalMg    TotalP   pH\n",
       "0  Cereals  0.594357  6.49  1.266707  2.159133  0.570870  6.2\n",
       "1  Cereals  0.920657  6.42  1.426763  1.477559  0.975900  6.0\n",
       "2  Cereals  1.274662  8.28  1.862025 -0.146118 -0.016168  5.8\n",
       "3  Cereals  0.354249  7.01  0.036057 -0.249317  0.571887  5.9\n",
       "4  Cereals  0.468146  5.11  0.972884 -0.529565 -1.455504  5.9"
      ]
     },
     "execution_count": 21,
     "metadata": {},
     "output_type": "execute_result"
    }
   ],
   "source": [
    "df1.head()"
   ]
  },
  {
   "cell_type": "code",
   "execution_count": 22,
   "metadata": {
    "collapsed": false
   },
   "outputs": [],
   "source": [
    "train=df1.sample(frac=0.8,random_state=200)    #This is a much cleaner way to create train and test datasets\n",
    "test=df1.drop(train.index)"
   ]
  },
  {
   "cell_type": "code",
   "execution_count": 23,
   "metadata": {
    "collapsed": false
   },
   "outputs": [
    {
     "name": "stdout",
     "output_type": "stream",
     "text": [
      "1048 + 262\n"
     ]
    }
   ],
   "source": [
    "print(len(train), '+' ,len(test))"
   ]
  },
  {
   "cell_type": "code",
   "execution_count": 24,
   "metadata": {
    "collapsed": true
   },
   "outputs": [],
   "source": [
    "test=test[test.columns.difference(['LandUse'])]"
   ]
  },
  {
   "cell_type": "code",
   "execution_count": 25,
   "metadata": {
    "collapsed": false
   },
   "outputs": [],
   "source": [
    "x=  train[train.columns.difference(['LandUse'])]\n",
    "y=  train.LandUse"
   ]
  },
  {
   "cell_type": "code",
   "execution_count": 26,
   "metadata": {
    "collapsed": true
   },
   "outputs": [],
   "source": [
    "clf = LogisticRegression(random_state=0, multi_class='ovr')\n",
    "model = clf.fit(x, y)"
   ]
  },
  {
   "cell_type": "code",
   "execution_count": 35,
   "metadata": {
    "collapsed": false
   },
   "outputs": [
    {
     "data": {
      "text/plain": [
       "array(['Cereals', 'Cereals', 'Cereals', 'Cereals', 'Cereals', 'Cereals',\n",
       "       'Cereals', 'Cereals', 'Cereals', 'Cereals', 'Cereals', 'Cereals',\n",
       "       'Cereals', 'Cereals', 'Cereals', 'Cereals', 'Cereals', 'Cereals',\n",
       "       'Cereals', 'Cereals', 'Cereals', 'Cereals', 'Cereals', 'Cereals',\n",
       "       'Cereals', 'Cereals', 'Cereals', 'Cereals', 'Cereals', 'Cereals',\n",
       "       'Cereals', 'Cereals', 'Cereals', 'Cereals', 'Cereals', 'Cereals',\n",
       "       'Cereals', 'Cereals', 'Cereals', 'Cereals', 'Cereals', 'Cereals',\n",
       "       'Cereals', 'Cereals', 'Cereals', 'Sugar_Crops', 'Cereals',\n",
       "       'Cereals', 'Cereals', 'Cereals', 'Cereals', 'Cereals', 'Cereals',\n",
       "       'Cereals', 'Cereals', 'Cereals', 'Cereals', 'Cereals', 'Cereals',\n",
       "       'Cereals', 'Cereals', 'Cereals', 'Unsuitable_Land', 'Cereals',\n",
       "       'Unsuitable_Land', 'Cereals', 'Cereals', 'Unsuitable_Land',\n",
       "       'Cereals', 'Cereals', 'Cereals', 'Cereals', 'Cereals', 'Cereals',\n",
       "       'Cereals', 'Cereals', 'Cereals', 'Cereals', 'Sugar_Crops',\n",
       "       'Cereals', 'Cereals', 'Cereals', 'Cereals', 'Cereals', 'Cereals',\n",
       "       'Cereals', 'Cereals', 'Cereals', 'Cereals', 'Cereals', 'Cereals',\n",
       "       'Cereals', 'Cereals', 'Cereals', 'Cereals', 'Cereals',\n",
       "       'Oil_Bearing_Crops', 'Unsuitable_Land', 'Cereals', 'Cereals',\n",
       "       'Cereals', 'Sugar_Crops', 'Cereals', 'Cereals', 'Cereals',\n",
       "       'Cereals', 'Cereals', 'Cereals', 'Sugar_Crops', 'Cereals',\n",
       "       'Cereals', 'Cereals', 'Cereals', 'Cereals', 'Cereals', 'Cereals',\n",
       "       'Cereals', 'Cereals', 'Cereals', 'Cereals', 'Cereals',\n",
       "       'Unsuitable_Land', 'Cereals', 'Cereals', 'Cereals', 'Cereals',\n",
       "       'Cereals', 'Cereals', 'Unsuitable_Land', 'Cereals', 'Cereals',\n",
       "       'Cereals', 'Sugar_Crops', 'Cereals', 'Cereals', 'Cereals',\n",
       "       'Cereals', 'Sugar_Crops', 'Sugar_Crops', 'Cereals', 'Cereals',\n",
       "       'Unsuitable_Land', 'Sugar_Crops', 'Sugar_Crops', 'Cereals',\n",
       "       'Sugar_Crops', 'Cereals', 'Cereals', 'Cereals', 'Cereals',\n",
       "       'Cereals', 'Sugar_Crops', 'Cereals', 'Cereals', 'Cereals',\n",
       "       'Cereals', 'Cereals', 'Sugar_Crops', 'Cereals', 'Sugar_Crops',\n",
       "       'Cereals', 'Cereals', 'Cereals', 'Cereals', 'Cereals', 'Cereals',\n",
       "       'Cereals', 'Sugar_Crops', 'Cereals', 'Cereals', 'Cereals',\n",
       "       'Unsuitable_Land', 'Sugar_Crops', 'Sugar_Crops', 'Cereals',\n",
       "       'Cereals', 'Sugar_Crops', 'Cereals', 'Cereals', 'Cereals',\n",
       "       'Cereals', 'Cereals', 'Cereals', 'Cereals', 'Sugar_Crops',\n",
       "       'Sugar_Crops', 'Cereals', 'Cereals', 'Cereals', 'Sugar_Crops',\n",
       "       'Cereals', 'Cereals', 'Unsuitable_Land', 'Cereals', 'Cereals',\n",
       "       'Cereals', 'Cereals', 'Cereals', 'Cereals', 'Cereals', 'Cereals',\n",
       "       'Cereals', 'Sugar_Crops', 'Cereals', 'Cereals', 'Cereals',\n",
       "       'Cereals', 'Cereals', 'Cereals', 'Sugar_Crops', 'Sugar_Crops',\n",
       "       'Cereals', 'Cereals', 'Cereals', 'Cereals', 'Cereals', 'Cereals',\n",
       "       'Cereals', 'Cereals', 'Cereals', 'Cereals', 'Cereals', 'Cereals',\n",
       "       'Sugar_Crops', 'Sugar_Crops', 'Cereals', 'Cereals', 'Sugar_Crops',\n",
       "       'Sugar_Crops', 'Sugar_Crops', 'Unsuitable_Land', 'Sugar_Crops',\n",
       "       'Cereals', 'Cereals', 'Cereals', 'Cereals', 'Cereals', 'Cereals',\n",
       "       'Cereals', 'Sugar_Crops', 'Cereals', 'Cereals', 'Sugar_Crops',\n",
       "       'Sugar_Crops', 'Sugar_Crops', 'Cereals', 'Cereals', 'Cereals',\n",
       "       'Sugar_Crops', 'Sugar_Crops', 'Unsuitable_Land', 'Cereals',\n",
       "       'Sugar_Crops', 'Cereals', 'Cereals', 'Sugar_Crops', 'Cereals',\n",
       "       'Cereals', 'Oil_Bearing_Crops', 'Cereals', 'Cereals', 'Sugar_Crops'], dtype=object)"
      ]
     },
     "execution_count": 35,
     "metadata": {},
     "output_type": "execute_result"
    }
   ],
   "source": [
    "c =model.predict(test)\n",
    "c"
   ]
  },
  {
   "cell_type": "code",
   "execution_count": 28,
   "metadata": {
    "collapsed": false
   },
   "outputs": [
    {
     "data": {
      "text/plain": [
       "array([[  8.17730511e-01,   6.13284482e-03,   1.45702346e-03,\n",
       "          8.21943277e-02,   9.24852929e-02],\n",
       "       [  7.95854119e-01,   8.70184787e-03,   7.94409863e-03,\n",
       "          8.63518906e-02,   1.01148044e-01],\n",
       "       [  7.92738592e-01,   7.84601749e-03,   5.25403024e-04,\n",
       "          1.43054725e-01,   5.58352627e-02],\n",
       "       ..., \n",
       "       [  6.22294320e-01,   2.15766405e-01,   1.43844105e-03,\n",
       "          6.88021972e-02,   9.16986368e-02],\n",
       "       [  8.04537400e-01,   3.25426288e-02,   4.04483858e-04,\n",
       "          4.03927080e-02,   1.22122779e-01],\n",
       "       [  1.92610377e-04,   1.56540021e-01,   6.32174635e-01,\n",
       "          2.57206515e-03,   2.08520668e-01]])"
      ]
     },
     "execution_count": 28,
     "metadata": {},
     "output_type": "execute_result"
    }
   ],
   "source": [
    "model.predict_proba(test)"
   ]
  },
  {
   "cell_type": "code",
   "execution_count": 29,
   "metadata": {
    "collapsed": false
   },
   "outputs": [
    {
     "data": {
      "text/plain": [
       "0.7919847328244275"
      ]
     },
     "execution_count": 29,
     "metadata": {},
     "output_type": "execute_result"
    }
   ],
   "source": [
    "model.score(x, y)"
   ]
  },
  {
   "cell_type": "code",
   "execution_count": 31,
   "metadata": {
    "collapsed": false
   },
   "outputs": [
    {
     "data": {
      "text/plain": [
       "array([[ 0.13022765, -0.24090258, -0.07689011,  0.03660655,  0.30575601,\n",
       "        -0.06098424],\n",
       "       [ 0.08842625,  0.00215214, -0.16075955, -0.30910533, -0.2237857 ,\n",
       "        -0.92975481],\n",
       "       [-0.6418036 ,  0.18066655,  0.55155711,  0.39520842, -0.0717097 ,\n",
       "        -0.97202015],\n",
       "       [-0.03185792, -0.06426238,  0.08572383, -0.06572888, -0.27074433,\n",
       "         0.41063021],\n",
       "       [ 0.13449417,  0.03601514,  0.05454357,  0.03799513,  0.07530728,\n",
       "        -0.18668753]])"
      ]
     },
     "execution_count": 31,
     "metadata": {},
     "output_type": "execute_result"
    }
   ],
   "source": [
    "model.coef_"
   ]
  },
  {
   "cell_type": "code",
   "execution_count": null,
   "metadata": {
    "collapsed": true
   },
   "outputs": [],
   "source": []
  }
 ],
 "metadata": {
  "anaconda-cloud": {},
  "kernelspec": {
   "display_name": "Python [conda root]",
   "language": "python",
   "name": "conda-root-py"
  },
  "language_info": {
   "codemirror_mode": {
    "name": "ipython",
    "version": 3
   },
   "file_extension": ".py",
   "mimetype": "text/x-python",
   "name": "python",
   "nbconvert_exporter": "python",
   "pygments_lexer": "ipython3",
   "version": "3.5.2"
  }
 },
 "nbformat": 4,
 "nbformat_minor": 1
}
